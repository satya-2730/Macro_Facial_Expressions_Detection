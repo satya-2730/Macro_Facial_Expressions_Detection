{
  "nbformat": 4,
  "nbformat_minor": 0,
  "metadata": {
    "colab": {
      "name": "MACRO_Facial_Expressions_Detection.ipynb",
      "provenance": [],
      "private_outputs": true,
      "collapsed_sections": [],
      "toc_visible": true
    },
    "kernelspec": {
      "name": "python3",
      "display_name": "Python 3"
    },
    "accelerator": "GPU"
  },
  "cells": [
    {
      "cell_type": "markdown",
      "metadata": {
        "id": "Hw80--oDDOl2",
        "colab_type": "text"
      },
      "source": [
        "## Mounting Drive\n"
      ]
    },
    {
      "cell_type": "code",
      "metadata": {
        "id": "U2CTMhkcDNRK",
        "colab_type": "code",
        "colab": {}
      },
      "source": [
        "from google.colab import drive\n",
        "drive.mount('/gdrive')"
      ],
      "execution_count": null,
      "outputs": []
    },
    {
      "cell_type": "code",
      "metadata": {
        "id": "q5QZ6tlcDi87",
        "colab_type": "code",
        "colab": {}
      },
      "source": [
        "%cd /gdrive/My\\ Drive/Projects_repo/face_emotion_recog/"
      ],
      "execution_count": null,
      "outputs": []
    },
    {
      "cell_type": "markdown",
      "metadata": {
        "id": "8vRDTZwj-FlR",
        "colab_type": "text"
      },
      "source": [
        "# Installing and Importing the required libraries "
      ]
    },
    {
      "cell_type": "code",
      "metadata": {
        "id": "UGnbz2aoJB3m",
        "colab_type": "code",
        "colab": {}
      },
      "source": [
        "!pip install -q torchbearer\n",
        "!pip install livelossplot"
      ],
      "execution_count": null,
      "outputs": []
    },
    {
      "cell_type": "code",
      "metadata": {
        "id": "2BX0gXXu3TUZ",
        "colab_type": "code",
        "colab": {}
      },
      "source": [
        "import numpy as np\n",
        "import seaborn as sns\n",
        "import matplotlib.pyplot as plt\n",
        "import os\n",
        "%matplotlib inline\n",
        "\n",
        "from tensorflow.keras.preprocessing.image import ImageDataGenerator\n",
        "from tensorflow.keras.layers import Dense, Input, Dropout, Flatten, Conv2D\n",
        "from tensorflow.keras.layers import BatchNormalization, Activation, MaxPooling2D\n",
        "from tensorflow.keras.models import Model, Sequential\n",
        "from tensorflow.keras.optimizers import Adam\n",
        "from tensorflow.keras.callbacks import ModelCheckpoint, ReduceLROnPlateau\n",
        "from tensorflow.keras.utils import plot_model\n",
        "\n",
        "from IPython.display import SVG, Image\n",
        "from livelossplot import PlotLossesKerasTF\n",
        "import tensorflow as tf\n",
        "import cv2\n",
        "from keras import models\n",
        "\n",
        "print(tf.__version__)"
      ],
      "execution_count": null,
      "outputs": []
    },
    {
      "cell_type": "markdown",
      "metadata": {
        "id": "lvdF3b6xE1Jx",
        "colab_type": "text"
      },
      "source": [
        "# Training and Testing Batches"
      ]
    },
    {
      "cell_type": "code",
      "metadata": {
        "id": "iEHur24D_5g8",
        "colab_type": "code",
        "colab": {}
      },
      "source": [
        "img_size = 48\n",
        "batch_size = 64\n",
        "\n",
        "data_train = ImageDataGenerator(horizontal_flip=True)\n",
        "train_gen = data_train.flow_from_directory(\"##PATH TO THE TRAINING IMAGES DIRECTORY\",\n",
        "                                           target_size=(img_size, img_size),\n",
        "                                           color_mode='grayscale',\n",
        "                                           batch_size=batch_size,\n",
        "                                           class_mode='categorical',\n",
        "                                           shuffle=True)\n",
        "\n",
        "data_test = ImageDataGenerator(horizontal_flip=True)\n",
        "test_gen = data_test.flow_from_directory(\"##PATH TO THE TEST IMAGES DIRECTORY##\",\n",
        "                                           target_size=(img_size, img_size),\n",
        "                                           color_mode='grayscale',\n",
        "                                           batch_size=batch_size,\n",
        "                                           class_mode='categorical',\n",
        "                                           shuffle=True)"
      ],
      "execution_count": null,
      "outputs": []
    },
    {
      "cell_type": "markdown",
      "metadata": {
        "id": "8R2gZbnMKbw0",
        "colab_type": "text"
      },
      "source": [
        "# Convolution Neural Network for the Macro Expressions Detector"
      ]
    },
    {
      "cell_type": "code",
      "metadata": {
        "id": "AnusliCcKkqa",
        "colab_type": "code",
        "colab": {}
      },
      "source": [
        "model = Sequential()\n",
        "\n",
        "#Convolution Layer-1\n",
        "model.add(Conv2D(64, (3,3), padding='same', input_shape=(48,48,1)))\n",
        "model.add(BatchNormalization())\n",
        "model.add(Activation('relu'))\n",
        "model.add(MaxPooling2D(pool_size=(2,2)))\n",
        "model.add(Dropout(0.25))\n",
        "\n",
        "#Convolution Layer-2\n",
        "model.add(Conv2D(128, (5,5), padding='same'))\n",
        "model.add(BatchNormalization())\n",
        "model.add(Activation('relu'))\n",
        "model.add(MaxPooling2D(pool_size=(2,2)))\n",
        "model.add(Dropout(0.25))\n",
        "\n",
        "#Convolution Layer-3\n",
        "model.add(Conv2D(512, (3,3), padding='same'))\n",
        "model.add(BatchNormalization())\n",
        "model.add(Activation('relu'))\n",
        "model.add(MaxPooling2D(pool_size=(2,2)))\n",
        "model.add(Dropout(0.25))\n",
        "\n",
        "#Convolution Layer-4\n",
        "model.add(Conv2D(512, (3,3), padding='same'))\n",
        "model.add(BatchNormalization())\n",
        "model.add(Activation('relu'))\n",
        "model.add(MaxPooling2D(pool_size=(2,2)))\n",
        "model.add(Dropout(0.25))\n",
        "\n",
        "model.add(Flatten())\n",
        "\n",
        "model.add(Dense(256))\n",
        "model.add(BatchNormalization())\n",
        "model.add(Activation('relu'))\n",
        "model.add(Dropout(0.25))\n",
        "\n",
        "model.add(Dense(512))\n",
        "model.add(BatchNormalization())\n",
        "model.add(Activation('relu'))\n",
        "model.add(Dropout(0.25) )\n",
        "\n",
        "model.add(Dense(7,activation='softmax'))\n",
        "\n",
        "opt = Adam(learning_rate=0.0005)\n",
        "model.compile(optimizer=opt, loss='categorical_crossentropy', metrics=['accuracy'])\n",
        "model.summary()\n"
      ],
      "execution_count": null,
      "outputs": []
    },
    {
      "cell_type": "markdown",
      "metadata": {
        "id": "IjyW-coQfu8Q",
        "colab_type": "text"
      },
      "source": [
        "# Training and Testing the model"
      ]
    },
    {
      "cell_type": "code",
      "metadata": {
        "id": "RV908E5cf1ip",
        "colab_type": "code",
        "colab": {}
      },
      "source": [
        "epochs = 20\n",
        "steps_per_epoch = train_gen.n//train_gen.batch_size\n",
        "test_steps = test_gen.n//test_gen.batch_size\n",
        "\n",
        "reduce_lr = ReduceLROnPlateau(monitor='val_loss', factor=0.1,\n",
        "                              patience=2, min_lr=0.00001, mode='auto')\n",
        "\n",
        "checkpoint = ModelCheckpoint(\"model_weights.h5\", monitor='val_accuracy',\n",
        "                             save_weights_only=True, mode='max', verbose=1)\n",
        "\n",
        "callbacks = [PlotLossesKerasTF(), checkpoint, reduce_lr]\n",
        "\n",
        "history = model.fit(\n",
        "    x=train_gen,\n",
        "    steps_per_epoch=steps_per_epoch,\n",
        "    epochs=epochs,\n",
        "    validation_data = test_gen,\n",
        "    validation_steps = test_steps,\n",
        "    callbacks=callbacks\n",
        ")"
      ],
      "execution_count": null,
      "outputs": []
    },
    {
      "cell_type": "markdown",
      "metadata": {
        "id": "x4dUCpthjAO4",
        "colab_type": "text"
      },
      "source": [
        "## Saving the Model as JSON"
      ]
    },
    {
      "cell_type": "code",
      "metadata": {
        "id": "ny1Kp0JXj9ro",
        "colab_type": "code",
        "colab": {}
      },
      "source": [
        "model_json = model.to_json()\n",
        "with open(\"model.json\", \"w\") as json_file:\n",
        "  json_file_write(model_json)\n",
        "model.save_weights(\"##Path to save your model_weights.h5 file##\")\n",
        "print(\"Model Saved Succesfully\")"
      ],
      "execution_count": null,
      "outputs": []
    }
  ]
}